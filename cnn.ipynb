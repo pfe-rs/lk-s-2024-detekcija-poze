{
 "cells": [
  {
   "cell_type": "code",
   "execution_count": 4,
   "metadata": {
    "execution": {
     "iopub.execute_input": "2024-07-24T14:39:03.787479Z",
     "iopub.status.busy": "2024-07-24T14:39:03.785070Z",
     "iopub.status.idle": "2024-07-24T14:39:03.798246Z",
     "shell.execute_reply": "2024-07-24T14:39:03.796734Z",
     "shell.execute_reply.started": "2024-07-24T14:39:03.787420Z"
    }
   },
   "outputs": [],
   "source": [
    "import matplotlib.pyplot as plt\n",
    "import numpy as np\n",
    "import cv2\n",
    "import os\n",
    "from PIL import Image\n",
    "import matplotlib.pyplot as plt\n",
    "import random\n",
    "import pathlib\n",
    "import pandas as pd\n",
    "import torch\n",
    "from torchvision import transforms\n",
    "import torch.nn as nn\n",
    "import torch.nn.functional as F\n",
    "import torch.optim as optim\n",
    "from torch.utils.data import TensorDataset, DataLoader\n",
    "from torchvision.io import read_image\n",
    "from torch.utils.data import Dataset\n",
    "from torchvision import transforms\n",
    "from utilss import get_accuracy_train, get_accuracy_test, plot_curve, keep_store_dict, store_dict_to_disk\n",
    "from data_loader import DataLoader1, ImageDataset\n",
    "from initializers import gaussian_initializer, constant_initializer\n",
    "from models import Model3, ModelM2, ModelM3, Model2, Model1, ModelAVE, Model\n",
    "from test import test\n",
    "from train import train"
   ]
  },
  {
   "cell_type": "code",
   "execution_count": 6,
   "metadata": {
    "execution": {
     "iopub.execute_input": "2024-07-24T14:39:03.816895Z",
     "iopub.status.busy": "2024-07-24T14:39:03.816356Z",
     "iopub.status.idle": "2024-07-24T14:39:09.080397Z",
     "shell.execute_reply": "2024-07-24T14:39:09.080397Z",
     "shell.execute_reply.started": "2024-07-24T14:39:03.816855Z"
    }
   },
   "outputs": [],
   "source": [
    "model1 = Model1()\n",
    "model2 = Model2()\n",
    "modelAVE = ModelAVE()\n",
    "model2_M = ModelM2()\n",
    "model3 = Model3()\n",
    "model3_M = ModelM3()"
   ]
  },
  {
   "cell_type": "code",
   "execution_count": 8,
   "metadata": {
    "execution": {
     "iopub.execute_input": "2024-07-24T14:39:09.095951Z",
     "iopub.status.busy": "2024-07-24T14:39:09.095443Z",
     "iopub.status.idle": "2024-07-24T14:39:12.265927Z",
     "shell.execute_reply": "2024-07-24T14:39:12.265927Z",
     "shell.execute_reply.started": "2024-07-24T14:39:09.095909Z"
    }
   },
   "outputs": [],
   "source": [
    "#model = Model(model1, model2, model3, modelAVE, model2_M, model3_M)\n",
    "model = Model1()\n",
    "device = torch.device(\"cuda:0\" if torch.cuda.is_available() else \"cpu\")\n",
    "model = model.to(device)"
   ]
  },
  {
   "cell_type": "code",
   "execution_count": 10,
   "metadata": {
    "execution": {
     "iopub.execute_input": "2024-07-24T14:39:12.280586Z",
     "iopub.status.busy": "2024-07-24T14:39:12.280366Z",
     "iopub.status.idle": "2024-07-24T14:39:12.286381Z",
     "shell.execute_reply": "2024-07-24T14:39:12.286287Z",
     "shell.execute_reply.started": "2024-07-24T14:39:12.280586Z"
    }
   },
   "outputs": [],
   "source": [
    "num_epoch = 3\n",
    "batch_size = 8\n",
    "store_dict = dict()"
   ]
  },
  {
   "cell_type": "code",
   "execution_count": 12,
   "metadata": {
    "execution": {
     "iopub.execute_input": "2024-07-24T14:39:12.312396Z",
     "iopub.status.busy": "2024-07-24T14:39:12.312396Z",
     "iopub.status.idle": "2024-07-24T14:39:12.321701Z",
     "shell.execute_reply": "2024-07-24T14:39:12.320394Z",
     "shell.execute_reply.started": "2024-07-24T14:39:12.312396Z"
    }
   },
   "outputs": [],
   "source": [
    "dataset_test = ImageDataset(\"heat_maps_test_plain\", \"images_test\", (368, 368), model.center_map)\n",
    "dataset_training = ImageDataset(\"heat_maps_training_plain\", \"images_training\", (368, 368), model.center_map)\n",
    "dataset_valid = ImageDataset(\"heat_maps_valid_plain\", \"images_valid\", (368, 368), model.center_map)\n",
    "\n",
    "\n",
    "#test_data_loader = DataLoader(dataset_test, batch_size=batch_size, shuffle=True)\n"
   ]
  },
  {
   "cell_type": "code",
   "execution_count": 14,
   "metadata": {
    "execution": {
     "iopub.execute_input": "2024-07-24T14:39:40.073437Z",
     "iopub.status.busy": "2024-07-24T14:39:40.072814Z",
     "iopub.status.idle": "2024-07-24T14:39:40.080773Z",
     "shell.execute_reply": "2024-07-24T14:39:40.079101Z",
     "shell.execute_reply.started": "2024-07-24T14:39:40.073395Z"
    }
   },
   "outputs": [],
   "source": [
    "loss_function = nn.MSELoss()\n",
    "learning_rate = 0.001\n",
    "optimizer = optim.Adam(model.parameters(), lr=learning_rate)"
   ]
  },
  {
   "cell_type": "code",
   "execution_count": 16,
   "metadata": {
    "execution": {
     "iopub.execute_input": "2024-07-24T14:39:44.900691Z",
     "iopub.status.busy": "2024-07-24T14:39:44.900156Z",
     "iopub.status.idle": "2024-07-24T14:39:44.917006Z",
     "shell.execute_reply": "2024-07-24T14:39:44.915455Z",
     "shell.execute_reply.started": "2024-07-24T14:39:44.900654Z"
    }
   },
   "outputs": [
    {
     "name": "stdout",
     "output_type": "stream",
     "text": [
      "8000\n"
     ]
    }
   ],
   "source": [
    "print(len(dataset_training))"
   ]
  },
  {
   "cell_type": "code",
   "execution_count": 17,
   "metadata": {
    "execution": {
     "iopub.execute_input": "2024-07-24T14:39:46.935002Z",
     "iopub.status.busy": "2024-07-24T14:39:46.933905Z",
     "iopub.status.idle": "2024-07-24T15:20:38.096043Z",
     "shell.execute_reply": "2024-07-24T15:20:38.092591Z",
     "shell.execute_reply.started": "2024-07-24T14:39:46.934982Z"
    }
   },
   "outputs": [
    {
     "name": "stdout",
     "output_type": "stream",
     "text": [
      "<torch.utils.data.dataloader.DataLoader object at 0x7f7ca3150d50>\n"
     ]
    },
    {
     "name": "stderr",
     "output_type": "stream",
     "text": [
      "652it [26:36,  2.49s/it]"
     ]
    },
    {
     "name": "stdout",
     "output_type": "stream",
     "text": [
      "7999\n"
     ]
    },
    {
     "name": "stderr",
     "output_type": "stream",
     "text": [
      "1000it [40:45,  2.45s/it]\n"
     ]
    },
    {
     "ename": "NameError",
     "evalue": "name 'end_time' is not defined",
     "output_type": "error",
     "traceback": [
      "\u001b[0;31m---------------------------------------------------------------------------\u001b[0m",
      "\u001b[0;31mNameError\u001b[0m                                 Traceback (most recent call last)",
      "Cell \u001b[0;32mIn[17], line 1\u001b[0m\n\u001b[0;32m----> 1\u001b[0m store_dict \u001b[38;5;241m=\u001b[39m \u001b[43mtrain\u001b[49m\u001b[43m(\u001b[49m\u001b[43mmodel\u001b[49m\u001b[38;5;241;43m=\u001b[39;49m\u001b[43mmodel\u001b[49m\u001b[43m,\u001b[49m\u001b[43m \u001b[49m\u001b[43mnum_epochs\u001b[49m\u001b[38;5;241;43m=\u001b[39;49m\u001b[43mnum_epoch\u001b[49m\u001b[43m,\u001b[49m\u001b[43m \u001b[49m\u001b[43mtrain_loader\u001b[49m\u001b[38;5;241;43m=\u001b[39;49m\u001b[43mdataset_training\u001b[49m\u001b[43m,\u001b[49m\u001b[43m \u001b[49m\u001b[43mtest_loader\u001b[49m\u001b[38;5;241;43m=\u001b[39;49m\u001b[43mdataset_valid\u001b[49m\u001b[43m,\u001b[49m\u001b[43m \u001b[49m\u001b[43mstore_dict\u001b[49m\u001b[38;5;241;43m=\u001b[39;49m\u001b[43mstore_dict\u001b[49m\u001b[43m,\u001b[49m\u001b[43m \u001b[49m\u001b[43mdevice\u001b[49m\u001b[43m \u001b[49m\u001b[38;5;241;43m=\u001b[39;49m\u001b[43m \u001b[49m\u001b[43mdevice\u001b[49m\u001b[43m,\u001b[49m\u001b[43m \u001b[49m\u001b[43mloss_function\u001b[49m\u001b[43m \u001b[49m\u001b[38;5;241;43m=\u001b[39;49m\u001b[43m \u001b[49m\u001b[43mloss_function\u001b[49m\u001b[43m,\u001b[49m\u001b[43m \u001b[49m\u001b[43moptimizer\u001b[49m\u001b[38;5;241;43m=\u001b[39;49m\u001b[43moptimizer\u001b[49m\u001b[43m,\u001b[49m\u001b[43m \u001b[49m\u001b[43mbatch_size\u001b[49m\u001b[43m \u001b[49m\u001b[38;5;241;43m=\u001b[39;49m\u001b[43m \u001b[49m\u001b[43mbatch_size\u001b[49m\u001b[43m)\u001b[49m\n\u001b[1;32m      2\u001b[0m store_dict_to_disk(\u001b[38;5;124m'\u001b[39m\u001b[38;5;124mstore_dict.json\u001b[39m\u001b[38;5;124m'\u001b[39m, store_dict\u001b[38;5;241m=\u001b[39mstore_dict)\n",
      "File \u001b[0;32m/notebooks/lk-s-2024-detekcija-poze/train.py:96\u001b[0m, in \u001b[0;36mtrain\u001b[0;34m(model, num_epochs, train_loader, store_dict, test_loader, device, loss_function, optimizer, batch_size)\u001b[0m\n\u001b[1;32m     94\u001b[0m     store_dict \u001b[38;5;241m=\u001b[39m keep_store_dict(curve\u001b[38;5;241m=\u001b[39mparam1, label\u001b[38;5;241m=\u001b[39m\u001b[38;5;124m'\u001b[39m\u001b[38;5;124mafter_optimizer_step\u001b[39m\u001b[38;5;124m'\u001b[39m, store_dict\u001b[38;5;241m=\u001b[39mstore_dict)\n\u001b[1;32m     95\u001b[0m \u001b[38;5;66;03m#end_time = time.time()\u001b[39;00m\n\u001b[0;32m---> 96\u001b[0m \u001b[38;5;28mprint\u001b[39m(\u001b[38;5;124mf\u001b[39m\u001b[38;5;124m\"\u001b[39m\u001b[38;5;124mtime for storing dict: \u001b[39m\u001b[38;5;132;01m{\u001b[39;00m\u001b[43mend_time\u001b[49m\u001b[38;5;250m \u001b[39m\u001b[38;5;241m-\u001b[39m\u001b[38;5;250m \u001b[39mstart_time\u001b[38;5;132;01m:\u001b[39;00m\u001b[38;5;124m.6f\u001b[39m\u001b[38;5;132;01m}\u001b[39;00m\u001b[38;5;124m seconds\u001b[39m\u001b[38;5;124m\"\u001b[39m)\n\u001b[1;32m     99\u001b[0m epoch_loss \u001b[38;5;241m=\u001b[39m train_running_loss \u001b[38;5;241m/\u001b[39m batch_num\n\u001b[1;32m    100\u001b[0m epoch_acc \u001b[38;5;241m=\u001b[39m train_acc \u001b[38;5;241m/\u001b[39m batch_num\n",
      "\u001b[0;31mNameError\u001b[0m: name 'end_time' is not defined"
     ]
    }
   ],
   "source": [
    "store_dict = train(model=model, num_epochs=num_epoch, train_loader=dataset_training, test_loader=dataset_valid, store_dict=store_dict, device = device, loss_function = loss_function, optimizer=optimizer, batch_size = batch_size)\n",
    "store_dict_to_disk('store_dict.json', store_dict=store_dict)"
   ]
  },
  {
   "cell_type": "code",
   "execution_count": null,
   "metadata": {
    "execution": {
     "iopub.status.busy": "2024-07-24T14:39:38.816783Z",
     "iopub.status.idle": "2024-07-24T14:39:38.817349Z"
    }
   },
   "outputs": [],
   "source": [
    "torch.save(model,'/notebooks/lk-s-2024-detekcija-poze/model23_71.pth')"
   ]
  },
  {
   "cell_type": "code",
   "execution_count": null,
   "metadata": {
    "execution": {
     "iopub.status.busy": "2024-07-24T14:39:38.822555Z",
     "iopub.status.idle": "2024-07-24T14:39:38.823144Z"
    }
   },
   "outputs": [],
   "source": [
    "loaded_model = torch.load('model23_7_2.pth')\n",
    "loaded_model.eval()\n",
    "\n",
    "input1 = dataset_training[5][0]\n",
    "input1a = input1.cpu()\n",
    "image_to_display = np.transpose(input1a, (1, 2, 0))\n",
    "plt.imshow(image_to_display)\n",
    "plt.show()\n",
    "input1 = input1.to(device)\n",
    "a = ['r ankle','r knee','r hip', 'l hipl', 'knee_X','l ankle_X','pelvis','thorax','upper neck','head top','r wrist','r elbow', 'r shoulder', 'l shoulder','l elbow','l wrist', 'back']\n",
    "for i in range(17):\n",
    "    output = loaded_model(input1)\n",
    "    output = output.cpu()\n",
    "    numpy_array = output.detach().numpy()\n",
    "    plt.imshow(numpy_array[i]*255)\n",
    "    plt.xlabel(a[i])\n",
    "    plt.show()\n",
    "   "
   ]
  },
  {
   "cell_type": "code",
   "execution_count": null,
   "metadata": {
    "execution": {
     "iopub.status.busy": "2024-07-24T14:39:38.827177Z",
     "iopub.status.idle": "2024-07-24T14:39:38.827688Z"
    }
   },
   "outputs": [],
   "source": [
    "input1 = dataset_training[7060][0]\n",
    "input1a = input1.cpu()\n",
    "image_to_display = np.transpose(input1a, (1, 2, 0))\n",
    "plt.imshow(image_to_display)\n",
    "plt.show()"
   ]
  }
 ],
 "metadata": {
  "kernelspec": {
   "display_name": "Python 3 (ipykernel)",
   "language": "python",
   "name": "python3"
  },
  "language_info": {
   "codemirror_mode": {
    "name": "ipython",
    "version": 3
   },
   "file_extension": ".py",
   "mimetype": "text/x-python",
   "name": "python",
   "nbconvert_exporter": "python",
   "pygments_lexer": "ipython3",
   "version": "3.11.7"
  }
 },
 "nbformat": 4,
 "nbformat_minor": 4
}
