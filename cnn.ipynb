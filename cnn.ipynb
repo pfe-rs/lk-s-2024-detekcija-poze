{
 "cells": [
  {
   "cell_type": "code",
   "execution_count": null,
   "metadata": {},
   "outputs": [],
   "source": [
    "import matplotlib.pyplot as plt\n",
    "import numpy as np\n",
    "import cv2\n",
    "import os\n",
    "from PIL import Image\n",
    "import matplotlib.pyplot as plt\n",
    "import random\n",
    "import pathlib\n",
    "import pandas as pd\n",
    "from torchvision.io import read_image\n",
    "from torch.utils.data import Dataset\n",
    "from torchvision import transforms"
   ]
  },
  {
   "cell_type": "code",
   "execution_count": null,
   "metadata": {},
   "outputs": [],
   "source": [
    "filename='mpii_new.csv'\n",
    "df = pd.read_csv(filename)\n",
    "df"
   ]
  },
  {
   "cell_type": "code",
   "execution_count": null,
   "metadata": {},
   "outputs": [],
   "source": [
    "#klasa koja ucitava dataset\n",
    "class ImageDataset(Dataset):\n",
    "    def __init__(self, heat_maps_dir, img_dir, transform, target_transform):\n",
    "        self.heat_maps_dir = heat_maps_dir\n",
    "        self.img_dir = img_dir\n",
    "        self.transform = transform = transforms.Compose([\n",
    "            transforms.Resize(transform),  # Resize the image to 128x128 pixels\n",
    "            ])\n",
    "        self.target_transform = transforms.Compose([\n",
    "            transforms.Resize(target_transform),  # Resize the image to 128x128 pixels\n",
    "            ])\n",
    "\n",
    "    def __len__(self):\n",
    "        return len(self.img_labels)\n",
    "\n",
    "    def __getitem__(self, idx):\n",
    "        img_path = os.path.join(self.img_dir, os.listdir(self.img_dir)[idx])\n",
    "        image = read_image(img_path)\n",
    "\n",
    "        map_path = os.path.join(self.heat_maps_dir, os.listdir(self.heat_maps_dir)[idx])\n",
    "        mapa = read_image(map_path)\n",
    "        if self.transform:\n",
    "            image = self.transform(image)\n",
    "        if self.target_transform:\n",
    "            mapa = self.target_transform(mapa)\n",
    "        return image, mapa\n"
   ]
  },
  {
   "cell_type": "code",
   "execution_count": null,
   "metadata": {},
   "outputs": [],
   "source": [
    "#ucitavanje dataseta\n",
    "dataset = ImageDataset('heat_maps_training', 'images_training', (368, 368), (368, 368))\n",
    "slika, mapa = dataset[0]"
   ]
  },
  {
   "cell_type": "code",
   "execution_count": null,
   "metadata": {},
   "outputs": [],
   "source": []
  }
 ],
 "metadata": {
  "kernelspec": {
   "display_name": "Python 3",
   "language": "python",
   "name": "python3"
  },
  "language_info": {
   "codemirror_mode": {
    "name": "ipython",
    "version": 3
   },
   "file_extension": ".py",
   "mimetype": "text/x-python",
   "name": "python",
   "nbconvert_exporter": "python",
   "pygments_lexer": "ipython3",
   "version": "3.11.4"
  }
 },
 "nbformat": 4,
 "nbformat_minor": 2
}
