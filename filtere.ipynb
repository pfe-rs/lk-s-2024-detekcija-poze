{
 "cells": [
  {
   "cell_type": "code",
   "execution_count": 2,
   "metadata": {},
   "outputs": [],
   "source": [
    "import csv\n",
    "import os\n",
    "import numpy as np\n",
    "import pandas as pd\n",
    "import cv2\n",
    "import matplotlib.pyplot as plt\n"
   ]
  },
  {
   "cell_type": "code",
   "execution_count": 3,
   "metadata": {},
   "outputs": [],
   "source": [
    "#u novi folder prebacuje slike za koje postoje anotacije u csv fajlu\n",
    "filename = \"mpii_human_pose.csv\"\n",
    "\n",
    "fields = []\n",
    "rows = []\n",
    " \n",
    "with open(filename, 'r') as csvfile:\n",
    "    csvreader = csv.reader(csvfile)\n",
    " \n",
    "    fields = next(csvreader)\n",
    " \n",
    "    for row in csvreader:\n",
    "        rows.append(row)\n",
    " \n",
    "for row in rows[:len(rows)]:\n",
    "    name = row[1]\n",
    "    if os.path.exists(\"images/\"+name):\n",
    "        os.replace(\"images/\"+name, \"images_extract/\"+name)\n"
   ]
  },
  {
   "cell_type": "code",
   "execution_count": null,
   "metadata": {},
   "outputs": [],
   "source": [
    "#ucitava inforacije o slikama koje sadrze vise od jedne osobe\n",
    "file1 = open(\"images.txt\",\"r\")\n",
    "b = []\n",
    "lines = file1.readlines()\n",
    "for i in range(len(lines)):\n",
    "    lines[i] = lines[i].rstrip()\n",
    "    #brise slike\n",
    "    if os.path.exists(\"images_extract/\" + lines[i]):\n",
    "        os.remove( \"images_extract/\" + lines[i])\n"
   ]
  },
  {
   "cell_type": "code",
   "execution_count": 4,
   "metadata": {},
   "outputs": [],
   "source": [
    "# csv fajl cita kao pandas dataframe\n",
    "df = pd.read_csv(filename)"
   ]
  },
  {
   "cell_type": "code",
   "execution_count": 5,
   "metadata": {},
   "outputs": [
    {
     "ename": "NameError",
     "evalue": "name 'lines' is not defined",
     "output_type": "error",
     "traceback": [
      "\u001b[1;31m---------------------------------------------------------------------------\u001b[0m",
      "\u001b[1;31mNameError\u001b[0m                                 Traceback (most recent call last)",
      "Cell \u001b[1;32mIn[5], line 2\u001b[0m\n\u001b[0;32m      1\u001b[0m \u001b[38;5;66;03m#izbacuje sve redove iz tabele koji sadrze indeks slike koja se nalazi u fajlu images.txt\u001b[39;00m\n\u001b[1;32m----> 2\u001b[0m df \u001b[38;5;241m=\u001b[39m df\u001b[38;5;241m.\u001b[39mdrop(df[df[\u001b[38;5;124m'\u001b[39m\u001b[38;5;124mNAME\u001b[39m\u001b[38;5;124m'\u001b[39m]\u001b[38;5;241m.\u001b[39misin(\u001b[43mlines\u001b[49m)]\u001b[38;5;241m.\u001b[39mindex)\n",
      "\u001b[1;31mNameError\u001b[0m: name 'lines' is not defined"
     ]
    }
   ],
   "source": [
    "#izbacuje sve redove iz tabele koji sadrze indeks slike koja se nalazi u fajlu images.txt\n",
    "df = df.drop(df[df['NAME'].isin(lines)].index)"
   ]
  },
  {
   "cell_type": "code",
   "execution_count": null,
   "metadata": {},
   "outputs": [],
   "source": [
    "df"
   ]
  },
  {
   "cell_type": "code",
   "execution_count": null,
   "metadata": {},
   "outputs": [],
   "source": [
    "#konvertuje df u csv i cuva ga\n",
    "x = df.to_csv('mpii_new.csv', index=False)"
   ]
  },
  {
   "cell_type": "code",
   "execution_count": null,
   "metadata": {},
   "outputs": [],
   "source": [
    "filename = \"mpii_new.csv\"\n",
    "\n",
    "fields = []\n",
    "rows = []\n",
    " \n",
    "with open(filename, 'r') as csvfile:\n",
    "    csvreader = csv.reader(csvfile)\n",
    " \n",
    "    fields = next(csvreader)\n",
    " \n",
    "    for row in csvreader:\n",
    "        rows.append(row)\n",
    " \n",
    "#Izdvajanje trening podataka\n",
    "for row in rows[:8001]:\n",
    "    name = row[1]\n",
    "    if os.path.exists(\"images_extract/\"+name):\n",
    "        os.replace(\"images_extract/\"+name, \"images_training/\"+name)\n",
    "\n",
    "#Izdvajanje test podataka\n",
    "for row in rows[8001:]:\n",
    "    name = row[1]\n",
    "    if os.path.exists(\"images_extract/\"+name):\n",
    "        os.replace(\"images_extract/\"+name, \"images_test/\"+name)"
   ]
  },
  {
   "cell_type": "code",
   "execution_count": 9,
   "metadata": {},
   "outputs": [
    {
     "name": "stdout",
     "output_type": "stream",
     "text": [
      "1\n"
     ]
    }
   ],
   "source": [
    "output_path = 'heat_maps_test_plain'\n",
    "path = 'images_test'\n",
    "\n",
    "if not os.path.exists(output_path):\n",
    "    os.makedirs(output_path)\n",
    "\n",
    "brojac = 0 \n",
    "\n",
    "for image in os.listdir(path):\n",
    "    brojac += 1\n",
    "    \n",
    "    img = Image.open(os.path.join(path, image))\n",
    "    mapa = np.zeros((17, 368, 368))\n",
    "\n",
    "    rezultat = df[df['NAME'] == image]\n",
    "    rezultat_numpy = rezultat.to_numpy()[0]\n",
    "\n",
    "    \n",
    "    boja = 1\n",
    "    sirina = 10\n",
    "    sloj_brojac = -1\n",
    "\n",
    "    for k in range(2, len(rezultat_numpy) - 3, 2):\n",
    "        sloj_brojac += 1\n",
    "        if rezultat_numpy[k] == -1 or rezultat_numpy[k + 1] == -1:\n",
    "            continue\n",
    "\n",
    "        x = round(rezultat_numpy[k] * 368 / img.size[0])\n",
    "        y = round(rezultat_numpy[k + 1] * 368 / img.size[1])\n",
    "\n",
    "        for i in range(max(0, y - sirina), min(mapa.shape[1], y + sirina)):\n",
    "            for j in range(max(0, x - sirina), min(mapa.shape[2], x + sirina)):\n",
    "                mapa[sloj_brojac, i, j] = boja\n",
    "\n",
    "    \n",
    "    for k in range(16):\n",
    "        mapa[16] += mapa[k]\n",
    "    mapa[16] = (16 - mapa[16]) / 16\n",
    "\n",
    "    \n",
    "    loc = os.path.join(output_path, 'hm_' + image.replace('.jpg', '.npy'))\n",
    "    np.save(loc, mapa)\n",
    "    \n",
    "    print(brojac)  "
   ]
  },
  {
   "cell_type": "code",
   "execution_count": null,
   "metadata": {},
   "outputs": [],
   "source": [
    "output_path = 'heat_maps_training_plain'\n",
    "path = 'images_training'\n",
    "\n",
    "if not os.path.exists(output_path):\n",
    "    os.makedirs(output_path)\n",
    "\n",
    "brojac = 0 \n",
    "\n",
    "for image in os.listdir(path):\n",
    "    brojac += 1\n",
    "    \n",
    "    img = Image.open(os.path.join(path, image))\n",
    "    mapa = np.zeros((17, 368, 368))\n",
    "\n",
    "    rezultat = df[df['NAME'] == image]\n",
    "    rezultat_numpy = rezultat.to_numpy()[0]\n",
    "\n",
    "    \n",
    "    boja = 1\n",
    "    sirina = 10\n",
    "    sloj_brojac = -1\n",
    "\n",
    "    for k in range(2, len(rezultat_numpy) - 3, 2):\n",
    "        sloj_brojac += 1\n",
    "        if rezultat_numpy[k] == -1 or rezultat_numpy[k + 1] == -1:\n",
    "            continue\n",
    "\n",
    "        x = round(rezultat_numpy[k] * 368 / img.size[0])\n",
    "        y = round(rezultat_numpy[k + 1] * 368 / img.size[1])\n",
    "\n",
    "        for i in range(max(0, y - sirina), min(mapa.shape[1], y + sirina)):\n",
    "            for j in range(max(0, x - sirina), min(mapa.shape[2], x + sirina)):\n",
    "                mapa[sloj_brojac, i, j] = boja\n",
    "\n",
    "    \n",
    "    for k in range(16):\n",
    "        mapa[16] += mapa[k]\n",
    "    mapa[16] = (16 - mapa[16]) / 16\n",
    "\n",
    "    \n",
    "    loc = os.path.join(output_path, 'hm_' + image.replace('.jpg', '.npy'))\n",
    "    np.save(loc, mapa)\n",
    "    \n",
    "    print(brojac)  "
   ]
  },
  {
   "cell_type": "code",
   "execution_count": null,
   "metadata": {},
   "outputs": [],
   "source": []
  }
 ],
 "metadata": {
  "kernelspec": {
   "display_name": "Python 3",
   "language": "python",
   "name": "python3"
  },
  "language_info": {
   "codemirror_mode": {
    "name": "ipython",
    "version": 3
   },
   "file_extension": ".py",
   "mimetype": "text/x-python",
   "name": "python",
   "nbconvert_exporter": "python",
   "pygments_lexer": "ipython3",
   "version": "3.11.4"
  }
 },
 "nbformat": 4,
 "nbformat_minor": 2
}
