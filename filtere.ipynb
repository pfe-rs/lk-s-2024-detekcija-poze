{
 "cells": [
  {
   "cell_type": "code",
   "execution_count": 2,
   "metadata": {},
   "outputs": [],
   "source": [
    "import csv\n",
    "import os\n",
    "import numpy as np\n",
    "import pandas as pd\n",
    "from PIL import Image\n",
    "import cv2\n",
    "import matplotlib.pyplot as plt"
   ]
  },
  {
   "cell_type": "code",
   "execution_count": 3,
   "metadata": {},
   "outputs": [],
   "source": [
    "filename = \"mpii_human_pose.csv\""
   ]
  },
  {
   "cell_type": "code",
   "execution_count": null,
   "metadata": {},
   "outputs": [],
   "source": [
    "#u novi folder prebacuje slike za koje postoje anotacije u csv fajlu\n",
    "\n",
    "fields = []\n",
    "rows = []\n",
    " \n",
    "with open(filename, 'r') as csvfile:\n",
    "    csvreader = csv.reader(csvfile)\n",
    " \n",
    "    fields = next(csvreader)\n",
    " \n",
    "    for row in csvreader:\n",
    "        rows.append(row)\n",
    " \n",
    "for row in rows[:len(rows)]:\n",
    "    name = row[1]\n",
    "    if os.path.exists(\"images/\"+name):\n",
    "        os.replace(\"images/\"+name, \"images_extract/\"+name)\n"
   ]
  },
  {
   "cell_type": "code",
   "execution_count": null,
   "metadata": {},
   "outputs": [],
   "source": [
    "#ucitava informacije o slikama koje sadrze vise od jedne osobe\n",
    "file1 = open(\"images.txt\",\"r\")\n",
    "b = []\n",
    "lines = file1.readlines()\n",
    "for i in range(len(lines)):\n",
    "    lines[i] = lines[i].rstrip()\n",
    "    #brise slike\n",
    "    if os.path.exists(\"images_extract/\" + lines[i]):\n",
    "        os.remove( \"images_extract/\" + lines[i])\n"
   ]
  },
  {
   "cell_type": "code",
   "execution_count": 4,
   "metadata": {},
   "outputs": [],
   "source": [
    "# csv fajl cita kao pandas dataframe\n",
    "df = pd.read_csv(filename)"
   ]
  },
  {
   "cell_type": "code",
   "execution_count": null,
   "metadata": {},
   "outputs": [],
   "source": [
    "#izbacuje sve redove iz tabele koji sadrze indeks slike koja se nalazi u fajlu images.txt\n",
    "df = df.drop(df[df['NAME'].isin(lines)].index)"
   ]
  },
  {
   "cell_type": "code",
   "execution_count": null,
   "metadata": {},
   "outputs": [],
   "source": [
    "df"
   ]
  },
  {
   "cell_type": "code",
   "execution_count": null,
   "metadata": {},
   "outputs": [],
   "source": [
    "#konvertuje df u csv i cuva ga\n",
    "x = df.to_csv('mpii_new.csv', index=False)"
   ]
  },
  {
   "cell_type": "code",
   "execution_count": null,
   "metadata": {},
   "outputs": [],
   "source": [
    "from PIL import Image\n",
    "\n",
    "#Funkcija za pravljenje padding-a\n",
    "def make_square(im, min_size=256, fill_color=(0, 0, 0, 255)):\n",
    "    x, y = im.size\n",
    "    size = max(min_size, x, y)\n",
    "    new_im = Image.new('RGBA', (size, size), fill_color)\n",
    "    new_im.paste(im, (0, 0))\n",
    "    return new_im\n",
    "\n",
    "image_path = \"images_extract/000234747.jpg\"\n",
    "im = Image.open(image_path)\n",
    "make_square(im).show()\n"
   ]
  },
  {
   "cell_type": "code",
   "execution_count": null,
   "metadata": {},
   "outputs": [],
   "source": [
    "filename = \"mpii_new.csv\"\n",
    "\n",
    "fields = []\n",
    "rows = []\n",
    " \n",
    "with open(filename, 'r') as csvfile:\n",
    "    csvreader = csv.reader(csvfile)\n",
    " \n",
    "    fields = next(csvreader)\n",
    " \n",
    "    for row in csvreader:\n",
    "        rows.append(row)\n",
    " \n",
    "#Izdvajanje trening podataka\n",
    "for row in rows[:8001]:\n",
    "    name = row[1]\n",
    "    if os.path.exists(\"images_extract/\"+name):\n",
    "        os.replace(\"images_extract/\"+name, \"images_training/\"+name)\n",
    "\n",
    "#Izdvajanje test podataka\n",
    "for row in rows[8001:11430]:\n",
    "    name = row[1]\n",
    "    if os.path.exists(\"images_extract/\"+name):\n",
    "        os.replace(\"images_extract/\"+name, \"images_test/\"+name)\n",
    "  "
   ]
  },
  {
   "cell_type": "code",
   "execution_count": 49,
   "metadata": {},
   "outputs": [],
   "source": [
    "#kreiranje heat mapa za trening\n",
    "path = \"images_training\"\n",
    "for image in os.listdir(path):\n",
    "    #izdvajanje podataka o slici\n",
    "    img = Image.open(os.path.join(path, image))\n",
    "\n",
    "    rezultat = df[df['NAME'] == image]\n",
    "    rezultat_numpy = rezultat.to_numpy()[0]\n",
    "    #generisanje heat map-e\n",
    "    mapa = np.array(img)\n",
    "\n",
    "    boja = [255, 0, 0]\n",
    "    sirina = 10\n",
    "\n",
    "    for k in range(2, len(rezultat_numpy) - 3, 2):\n",
    "        if rezultat_numpy[k] == -1 or rezultat_numpy[k + 1] == -1:\n",
    "            continue\n",
    "        x = round(rezultat_numpy[k])\n",
    "        y = round(rezultat_numpy[k + 1])\n",
    "        for i in range(max(0, y - sirina), min(mapa.shape[0], y + sirina)):\n",
    "            for j in range(max(0, x - sirina), min(mapa.shape[1], x + sirina)):\n",
    "                mapa[i, j] = boja\n",
    "            \n",
    "\n",
    "    # Sačuvaj novu sliku\n",
    "    plt.imsave('heat_maps_training\\\\hm' + image, mapa)\n"
   ]
  },
  {
   "cell_type": "code",
   "execution_count": 48,
   "metadata": {},
   "outputs": [],
   "source": [
    "#kreiranje heat mapa za test\n",
    "path = \"images_test\"\n",
    "for image in os.listdir(path):\n",
    "    #izdvajanje podataka o slici\n",
    "    img = Image.open(os.path.join(path, image))\n",
    "\n",
    "    rezultat = df[df['NAME'] == image]\n",
    "    rezultat_numpy = rezultat.to_numpy()[0]\n",
    "    #generisanje heat map-e\n",
    "    mapa = np.array(img)\n",
    "\n",
    "    boja = [255, 0, 0]\n",
    "    sirina = 10\n",
    "\n",
    "    for k in range(2, len(rezultat_numpy) - 3, 2):\n",
    "        if rezultat_numpy[k] == -1 or rezultat_numpy[k + 1] == -1:\n",
    "            continue\n",
    "        x = round(rezultat_numpy[k])\n",
    "        y = round(rezultat_numpy[k + 1])\n",
    "        for i in range(max(0, y - sirina), min(mapa.shape[0], y + sirina)):\n",
    "            for j in range(max(0, x - sirina), min(mapa.shape[1], x + sirina)):\n",
    "                mapa[i, j] = boja\n",
    "            \n",
    "\n",
    "    # Sačuvaj novu sliku\n",
    "    plt.imsave('heat_maps_test\\\\hm' + image, mapa)\n"
   ]
  },
  {
   "cell_type": "code",
   "execution_count": null,
   "metadata": {},
   "outputs": [],
   "source": []
  }
 ],
 "metadata": {
  "kernelspec": {
   "display_name": "Python 3",
   "language": "python",
   "name": "python3"
  },
  "language_info": {
   "codemirror_mode": {
    "name": "ipython",
    "version": 3
   },
   "file_extension": ".py",
   "mimetype": "text/x-python",
   "name": "python",
   "nbconvert_exporter": "python",
   "pygments_lexer": "ipython3",
   "version": "3.11.4"
  }
 },
 "nbformat": 4,
 "nbformat_minor": 2
}
